{
 "metadata": {
  "name": "",
  "signature": "sha256:5d45f93473d258193cd85b26fb0a1f1358740ed62ce4e30de0e1c9eb90d8302c"
 },
 "nbformat": 3,
 "nbformat_minor": 0,
 "worksheets": [
  {
   "cells": [
    {
     "cell_type": "markdown",
     "metadata": {},
     "source": [
      "# Introduction\n",
      "In this project we will be using [GraphLab Create Beta 0.2.0](http://graphlab.com/products/create/index.html) and Python 2.7.6 to create a movie recommender based on movies a user has already recommended."
     ]
    },
    {
     "cell_type": "code",
     "collapsed": false,
     "input": [
      "import graphlab\n",
      "import matplotlib.pyplot as plt"
     ],
     "language": "python",
     "metadata": {},
     "outputs": [],
     "prompt_number": 1
    },
    {
     "cell_type": "markdown",
     "metadata": {},
     "source": [
      "The following setting ensures that our plots show up inline in the notebook."
     ]
    },
    {
     "cell_type": "code",
     "collapsed": false,
     "input": [
      "%matplotlib inline"
     ],
     "language": "python",
     "metadata": {},
     "outputs": [],
     "prompt_number": 2
    },
    {
     "cell_type": "markdown",
     "metadata": {},
     "source": [
      "## Import the dataset\n",
      "The dataset has already been preprocessed into a csv file. We will load the csv into an GraphLab SFrame to create our model and the print out the first ten rows of data to make sure everything looks good."
     ]
    },
    {
     "cell_type": "code",
     "collapsed": false,
     "input": [
      "data = graphlab.SFrame.read_csv(\"full.csv\",\n",
      "                                column_type_hints={\"UserID\": int, \n",
      "                                                   \"MovieID\": int, \n",
      "                                                   \"Ratings\": int, \n",
      "                                                   \"Age\": int,\n",
      "                                                   \"Zipcode\": int,\n",
      "                                                   \"Action\": int,\n",
      "                                                   \"Adventure\": int,\n",
      "                                                   \"Animation\": int,\n",
      "                                                   \"Children_s\": int,\n",
      "                                                   \"Comedy\": int,\n",
      "                                                   \"Crime\": int,\n",
      "                                                   \"Documentary\": int,\n",
      "                                                   \"Drama\": int,\n",
      "                                                   \"Fantasy\": int,\n",
      "                                                   \"Film_Noir\": int,\n",
      "                                                   \"Horror\": int,\n",
      "                                                   \"Mystery\": int,\n",
      "                                                   \"Romance\": int,\n",
      "                                                   \"Musical\": int,\n",
      "                                                   \"Sci_fi\": int,\n",
      "                                                   \"Thriller\": int,\n",
      "                                                   \"Unknown\": int,\n",
      "                                                   \"War\": int})\n",
      "data.head()"
     ],
     "language": "python",
     "metadata": {},
     "outputs": [
      {
       "output_type": "stream",
       "stream": "stderr",
       "text": [
        "[INFO] Start server at: ipc:///tmp/graphlab_server-993 - Server binary: /usr/local/lib/python2.7/site-packages/graphlab/unity_server - Server log: /tmp/graphlab_server_1399144689.log\n"
       ]
      },
      {
       "output_type": "stream",
       "stream": "stderr",
       "text": [
        "[INFO] GraphLab Server Version: 0.2.0\n"
       ]
      },
      {
       "html": [
        "<div style=\"max-height:1000px;max-width:1500px;overflow:auto;\">\n",
        "<table border=\"1\" class=\"dataframe\">\n",
        "  <thead>\n",
        "    <tr style=\"text-align: right;\">\n",
        "      <th></th>\n",
        "      <th>UserID</th>\n",
        "      <th>MovieID</th>\n",
        "      <th>Ratings</th>\n",
        "      <th>Occupation</th>\n",
        "      <th>Age</th>\n",
        "      <th>Gender</th>\n",
        "      <th>Zipcode</th>\n",
        "      <th>Action</th>\n",
        "      <th>Adventure</th>\n",
        "      <th>Animation</th>\n",
        "      <th>Children_s</th>\n",
        "      <th>Comedy</th>\n",
        "      <th>Crime</th>\n",
        "      <th>Documentary</th>\n",
        "      <th>Drama</th>\n",
        "      <th>Fantasy</th>\n",
        "      <th>Film_Noir</th>\n",
        "      <th>Horror</th>\n",
        "      <th>Mystery</th>\n",
        "      <th>Romance</th>\n",
        "      <th></th>\n",
        "    </tr>\n",
        "  </thead>\n",
        "  <tbody>\n",
        "    <tr>\n",
        "      <th>0</th>\n",
        "      <td>  1</td>\n",
        "      <td> 1</td>\n",
        "      <td> 5</td>\n",
        "      <td>    technician</td>\n",
        "      <td> 24</td>\n",
        "      <td> M</td>\n",
        "      <td> 85711</td>\n",
        "      <td> 0</td>\n",
        "      <td> 0</td>\n",
        "      <td> 1</td>\n",
        "      <td> 1</td>\n",
        "      <td> 1</td>\n",
        "      <td> 0</td>\n",
        "      <td> 0</td>\n",
        "      <td> 0</td>\n",
        "      <td> 0</td>\n",
        "      <td> 0</td>\n",
        "      <td> 0</td>\n",
        "      <td> 0</td>\n",
        "      <td> 0</td>\n",
        "      <td>...</td>\n",
        "    </tr>\n",
        "    <tr>\n",
        "      <th>1</th>\n",
        "      <td>  2</td>\n",
        "      <td> 1</td>\n",
        "      <td> 3</td>\n",
        "      <td>         other</td>\n",
        "      <td> 53</td>\n",
        "      <td> F</td>\n",
        "      <td> 94043</td>\n",
        "      <td> 0</td>\n",
        "      <td> 0</td>\n",
        "      <td> 1</td>\n",
        "      <td> 1</td>\n",
        "      <td> 1</td>\n",
        "      <td> 0</td>\n",
        "      <td> 0</td>\n",
        "      <td> 0</td>\n",
        "      <td> 0</td>\n",
        "      <td> 0</td>\n",
        "      <td> 0</td>\n",
        "      <td> 0</td>\n",
        "      <td> 0</td>\n",
        "      <td>...</td>\n",
        "    </tr>\n",
        "    <tr>\n",
        "      <th>2</th>\n",
        "      <td>  3</td>\n",
        "      <td> 1</td>\n",
        "      <td> 4</td>\n",
        "      <td>        writer</td>\n",
        "      <td> 23</td>\n",
        "      <td> M</td>\n",
        "      <td> 32067</td>\n",
        "      <td> 0</td>\n",
        "      <td> 0</td>\n",
        "      <td> 1</td>\n",
        "      <td> 1</td>\n",
        "      <td> 1</td>\n",
        "      <td> 0</td>\n",
        "      <td> 0</td>\n",
        "      <td> 0</td>\n",
        "      <td> 0</td>\n",
        "      <td> 0</td>\n",
        "      <td> 0</td>\n",
        "      <td> 0</td>\n",
        "      <td> 0</td>\n",
        "      <td>...</td>\n",
        "    </tr>\n",
        "    <tr>\n",
        "      <th>3</th>\n",
        "      <td>  4</td>\n",
        "      <td> 1</td>\n",
        "      <td> 3</td>\n",
        "      <td>    technician</td>\n",
        "      <td> 24</td>\n",
        "      <td> M</td>\n",
        "      <td> 43537</td>\n",
        "      <td> 0</td>\n",
        "      <td> 0</td>\n",
        "      <td> 1</td>\n",
        "      <td> 1</td>\n",
        "      <td> 1</td>\n",
        "      <td> 0</td>\n",
        "      <td> 0</td>\n",
        "      <td> 0</td>\n",
        "      <td> 0</td>\n",
        "      <td> 0</td>\n",
        "      <td> 0</td>\n",
        "      <td> 0</td>\n",
        "      <td> 0</td>\n",
        "      <td>...</td>\n",
        "    </tr>\n",
        "    <tr>\n",
        "      <th>4</th>\n",
        "      <td>  5</td>\n",
        "      <td> 1</td>\n",
        "      <td> 3</td>\n",
        "      <td>         other</td>\n",
        "      <td> 33</td>\n",
        "      <td> F</td>\n",
        "      <td> 15213</td>\n",
        "      <td> 0</td>\n",
        "      <td> 0</td>\n",
        "      <td> 1</td>\n",
        "      <td> 1</td>\n",
        "      <td> 1</td>\n",
        "      <td> 0</td>\n",
        "      <td> 0</td>\n",
        "      <td> 0</td>\n",
        "      <td> 0</td>\n",
        "      <td> 0</td>\n",
        "      <td> 0</td>\n",
        "      <td> 0</td>\n",
        "      <td> 0</td>\n",
        "      <td>...</td>\n",
        "    </tr>\n",
        "    <tr>\n",
        "      <th>5</th>\n",
        "      <td>  6</td>\n",
        "      <td> 1</td>\n",
        "      <td> 5</td>\n",
        "      <td>     executive</td>\n",
        "      <td> 42</td>\n",
        "      <td> M</td>\n",
        "      <td> 98101</td>\n",
        "      <td> 0</td>\n",
        "      <td> 0</td>\n",
        "      <td> 1</td>\n",
        "      <td> 1</td>\n",
        "      <td> 1</td>\n",
        "      <td> 0</td>\n",
        "      <td> 0</td>\n",
        "      <td> 0</td>\n",
        "      <td> 0</td>\n",
        "      <td> 0</td>\n",
        "      <td> 0</td>\n",
        "      <td> 0</td>\n",
        "      <td> 0</td>\n",
        "      <td>...</td>\n",
        "    </tr>\n",
        "    <tr>\n",
        "      <th>6</th>\n",
        "      <td>  7</td>\n",
        "      <td> 1</td>\n",
        "      <td> 4</td>\n",
        "      <td> administrator</td>\n",
        "      <td> 57</td>\n",
        "      <td> M</td>\n",
        "      <td> 91344</td>\n",
        "      <td> 0</td>\n",
        "      <td> 0</td>\n",
        "      <td> 1</td>\n",
        "      <td> 1</td>\n",
        "      <td> 1</td>\n",
        "      <td> 0</td>\n",
        "      <td> 0</td>\n",
        "      <td> 0</td>\n",
        "      <td> 0</td>\n",
        "      <td> 0</td>\n",
        "      <td> 0</td>\n",
        "      <td> 0</td>\n",
        "      <td> 0</td>\n",
        "      <td>...</td>\n",
        "    </tr>\n",
        "    <tr>\n",
        "      <th>7</th>\n",
        "      <td>  8</td>\n",
        "      <td> 1</td>\n",
        "      <td> 1</td>\n",
        "      <td> administrator</td>\n",
        "      <td> 36</td>\n",
        "      <td> M</td>\n",
        "      <td>  5201</td>\n",
        "      <td> 0</td>\n",
        "      <td> 0</td>\n",
        "      <td> 1</td>\n",
        "      <td> 1</td>\n",
        "      <td> 1</td>\n",
        "      <td> 0</td>\n",
        "      <td> 0</td>\n",
        "      <td> 0</td>\n",
        "      <td> 0</td>\n",
        "      <td> 0</td>\n",
        "      <td> 0</td>\n",
        "      <td> 0</td>\n",
        "      <td> 0</td>\n",
        "      <td>...</td>\n",
        "    </tr>\n",
        "    <tr>\n",
        "      <th>8</th>\n",
        "      <td>  9</td>\n",
        "      <td> 1</td>\n",
        "      <td> 5</td>\n",
        "      <td>       student</td>\n",
        "      <td> 29</td>\n",
        "      <td> M</td>\n",
        "      <td>  1002</td>\n",
        "      <td> 0</td>\n",
        "      <td> 0</td>\n",
        "      <td> 1</td>\n",
        "      <td> 1</td>\n",
        "      <td> 1</td>\n",
        "      <td> 0</td>\n",
        "      <td> 0</td>\n",
        "      <td> 0</td>\n",
        "      <td> 0</td>\n",
        "      <td> 0</td>\n",
        "      <td> 0</td>\n",
        "      <td> 0</td>\n",
        "      <td> 0</td>\n",
        "      <td>...</td>\n",
        "    </tr>\n",
        "    <tr>\n",
        "      <th>9</th>\n",
        "      <td> 10</td>\n",
        "      <td> 1</td>\n",
        "      <td> 3</td>\n",
        "      <td>        lawyer</td>\n",
        "      <td> 53</td>\n",
        "      <td> M</td>\n",
        "      <td> 90703</td>\n",
        "      <td> 0</td>\n",
        "      <td> 0</td>\n",
        "      <td> 1</td>\n",
        "      <td> 1</td>\n",
        "      <td> 1</td>\n",
        "      <td> 0</td>\n",
        "      <td> 0</td>\n",
        "      <td> 0</td>\n",
        "      <td> 0</td>\n",
        "      <td> 0</td>\n",
        "      <td> 0</td>\n",
        "      <td> 0</td>\n",
        "      <td> 0</td>\n",
        "      <td>...</td>\n",
        "    </tr>\n",
        "  </tbody>\n",
        "</table>\n",
        "<p>10 rows \u00d7 26 columns</p>\n",
        "</div>"
       ],
       "metadata": {},
       "output_type": "pyout",
       "prompt_number": 3,
       "text": [
        "   UserID  MovieID  Ratings     Occupation  Age Gender  Zipcode  Action  \\\n",
        "0       1        1        5     technician   24      M    85711       0   \n",
        "1       2        1        3          other   53      F    94043       0   \n",
        "2       3        1        4         writer   23      M    32067       0   \n",
        "3       4        1        3     technician   24      M    43537       0   \n",
        "4       5        1        3          other   33      F    15213       0   \n",
        "5       6        1        5      executive   42      M    98101       0   \n",
        "6       7        1        4  administrator   57      M    91344       0   \n",
        "7       8        1        1  administrator   36      M     5201       0   \n",
        "8       9        1        5        student   29      M     1002       0   \n",
        "9      10        1        3         lawyer   53      M    90703       0   \n",
        "\n",
        "   Adventure  Animation  Children_s  Comedy  Crime  Documentary  Drama  \\\n",
        "0          0          1           1       1      0            0      0   \n",
        "1          0          1           1       1      0            0      0   \n",
        "2          0          1           1       1      0            0      0   \n",
        "3          0          1           1       1      0            0      0   \n",
        "4          0          1           1       1      0            0      0   \n",
        "5          0          1           1       1      0            0      0   \n",
        "6          0          1           1       1      0            0      0   \n",
        "7          0          1           1       1      0            0      0   \n",
        "8          0          1           1       1      0            0      0   \n",
        "9          0          1           1       1      0            0      0   \n",
        "\n",
        "   Fantasy  Film_Noir  Horror  Mystery  Romance      \n",
        "0        0          0       0        0        0 ...  \n",
        "1        0          0       0        0        0 ...  \n",
        "2        0          0       0        0        0 ...  \n",
        "3        0          0       0        0        0 ...  \n",
        "4        0          0       0        0        0 ...  \n",
        "5        0          0       0        0        0 ...  \n",
        "6        0          0       0        0        0 ...  \n",
        "7        0          0       0        0        0 ...  \n",
        "8        0          0       0        0        0 ...  \n",
        "9        0          0       0        0        0 ...  \n",
        "\n",
        "[10 rows x 26 columns]"
       ]
      }
     ],
     "prompt_number": 3
    },
    {
     "cell_type": "markdown",
     "metadata": {},
     "source": [
      "Experimentation of the models used with GraphLab show that only three columns are relivate: User, Movie, and Rating. So we will prune the data to only use those columns."
     ]
    },
    {
     "cell_type": "code",
     "collapsed": false,
     "input": [
      "data = data.select_columns([\"UserID\", \"MovieTitle\", \"Ratings\"])\n",
      "data.head()"
     ],
     "language": "python",
     "metadata": {},
     "outputs": [
      {
       "html": [
        "<div style=\"max-height:1000px;max-width:1500px;overflow:auto;\">\n",
        "<table border=\"1\" class=\"dataframe\">\n",
        "  <thead>\n",
        "    <tr style=\"text-align: right;\">\n",
        "      <th></th>\n",
        "      <th>UserID</th>\n",
        "      <th>MovieTitle</th>\n",
        "      <th>Ratings</th>\n",
        "    </tr>\n",
        "  </thead>\n",
        "  <tbody>\n",
        "    <tr>\n",
        "      <th>0</th>\n",
        "      <td>  1</td>\n",
        "      <td> Toy Story (1995)</td>\n",
        "      <td> 5</td>\n",
        "    </tr>\n",
        "    <tr>\n",
        "      <th>1</th>\n",
        "      <td>  2</td>\n",
        "      <td> Toy Story (1995)</td>\n",
        "      <td> 3</td>\n",
        "    </tr>\n",
        "    <tr>\n",
        "      <th>2</th>\n",
        "      <td>  3</td>\n",
        "      <td> Toy Story (1995)</td>\n",
        "      <td> 4</td>\n",
        "    </tr>\n",
        "    <tr>\n",
        "      <th>3</th>\n",
        "      <td>  4</td>\n",
        "      <td> Toy Story (1995)</td>\n",
        "      <td> 3</td>\n",
        "    </tr>\n",
        "    <tr>\n",
        "      <th>4</th>\n",
        "      <td>  5</td>\n",
        "      <td> Toy Story (1995)</td>\n",
        "      <td> 3</td>\n",
        "    </tr>\n",
        "    <tr>\n",
        "      <th>5</th>\n",
        "      <td>  6</td>\n",
        "      <td> Toy Story (1995)</td>\n",
        "      <td> 5</td>\n",
        "    </tr>\n",
        "    <tr>\n",
        "      <th>6</th>\n",
        "      <td>  7</td>\n",
        "      <td> Toy Story (1995)</td>\n",
        "      <td> 4</td>\n",
        "    </tr>\n",
        "    <tr>\n",
        "      <th>7</th>\n",
        "      <td>  8</td>\n",
        "      <td> Toy Story (1995)</td>\n",
        "      <td> 1</td>\n",
        "    </tr>\n",
        "    <tr>\n",
        "      <th>8</th>\n",
        "      <td>  9</td>\n",
        "      <td> Toy Story (1995)</td>\n",
        "      <td> 5</td>\n",
        "    </tr>\n",
        "    <tr>\n",
        "      <th>9</th>\n",
        "      <td> 10</td>\n",
        "      <td> Toy Story (1995)</td>\n",
        "      <td> 3</td>\n",
        "    </tr>\n",
        "  </tbody>\n",
        "</table>\n",
        "<p>10 rows \u00d7 3 columns</p>\n",
        "</div>"
       ],
       "metadata": {},
       "output_type": "pyout",
       "prompt_number": 4,
       "text": [
        "   UserID        MovieTitle  Ratings\n",
        "0       1  Toy Story (1995)        5\n",
        "1       2  Toy Story (1995)        3\n",
        "2       3  Toy Story (1995)        4\n",
        "3       4  Toy Story (1995)        3\n",
        "4       5  Toy Story (1995)        3\n",
        "5       6  Toy Story (1995)        5\n",
        "6       7  Toy Story (1995)        4\n",
        "7       8  Toy Story (1995)        1\n",
        "8       9  Toy Story (1995)        5\n",
        "9      10  Toy Story (1995)        3\n",
        "\n",
        "[10 rows x 3 columns]"
       ]
      }
     ],
     "prompt_number": 4
    },
    {
     "cell_type": "markdown",
     "metadata": {},
     "source": [
      "# Build models and make recommendations\n",
      "There are a number of models in GraphLab Create. We will use each one and compare performance to determine which model provides the best performance for our data set.\n",
      "\n",
      "Each model can also provide recommendations. Users will not be recommended movies that they have rated. We will recommend *k* movies. Each recommendation will be given a score, which is a prediction of how well the recommendation model thinks the user will like the movie."
     ]
    },
    {
     "cell_type": "markdown",
     "metadata": {},
     "source": [
      "## The models"
     ]
    },
    {
     "cell_type": "markdown",
     "metadata": {},
     "source": [
      "### Popularity"
     ]
    },
    {
     "cell_type": "code",
     "collapsed": false,
     "input": [
      "popularity_model = graphlab.recommender.popularity.create(data, \"UserID\", \"MovieTitle\")\n",
      "popularity_model.training_stats()"
     ],
     "language": "python",
     "metadata": {},
     "outputs": [
      {
       "metadata": {},
       "output_type": "pyout",
       "prompt_number": 5,
       "text": [
        "{'data_load_time': 0.10145000000000004,\n",
        " 'elapsed_time': 0.13864800000000005,\n",
        " 'num_obs_train': 90640,\n",
        " 'num_obs_validate': 0,\n",
        " 'training_time': 0.037198}"
       ]
      }
     ],
     "prompt_number": 5
    },
    {
     "cell_type": "code",
     "collapsed": false,
     "input": [
      "popularity_results = popularity_model.recommend(data, k=5)\n",
      "popularity_results.head()"
     ],
     "language": "python",
     "metadata": {},
     "outputs": [
      {
       "html": [
        "<div style=\"max-height:1000px;max-width:1500px;overflow:auto;\">\n",
        "<table border=\"1\" class=\"dataframe\">\n",
        "  <thead>\n",
        "    <tr style=\"text-align: right;\">\n",
        "      <th></th>\n",
        "      <th>UserID</th>\n",
        "      <th>MovieTitle</th>\n",
        "      <th>score</th>\n",
        "      <th>rank</th>\n",
        "    </tr>\n",
        "  </thead>\n",
        "  <tbody>\n",
        "    <tr>\n",
        "      <th>0</th>\n",
        "      <td> 1</td>\n",
        "      <td>                      Mission: Impossible (1996)</td>\n",
        "      <td> 0.005362</td>\n",
        "      <td> 0</td>\n",
        "    </tr>\n",
        "    <tr>\n",
        "      <th>1</th>\n",
        "      <td> 1</td>\n",
        "      <td>                           Twelve Monkeys (1995)</td>\n",
        "      <td> 0.004446</td>\n",
        "      <td> 1</td>\n",
        "    </tr>\n",
        "    <tr>\n",
        "      <th>2</th>\n",
        "      <td> 1</td>\n",
        "      <td>          To Gillian on Her 37th Birthday (1996)</td>\n",
        "      <td> 0.003895</td>\n",
        "      <td> 2</td>\n",
        "    </tr>\n",
        "    <tr>\n",
        "      <th>3</th>\n",
        "      <td> 1</td>\n",
        "      <td>       Lawnmower Man 2: Beyond Cyberspace (1996)</td>\n",
        "      <td> 0.003575</td>\n",
        "      <td> 3</td>\n",
        "    </tr>\n",
        "    <tr>\n",
        "      <th>4</th>\n",
        "      <td> 1</td>\n",
        "      <td> Dr. Strangelove or: How I Learn to Stop. (1963)</td>\n",
        "      <td> 0.003332</td>\n",
        "      <td> 4</td>\n",
        "    </tr>\n",
        "    <tr>\n",
        "      <th>5</th>\n",
        "      <td> 2</td>\n",
        "      <td>                     My Own Private Idaho (1991)</td>\n",
        "      <td> 0.004722</td>\n",
        "      <td> 0</td>\n",
        "    </tr>\n",
        "    <tr>\n",
        "      <th>6</th>\n",
        "      <td> 2</td>\n",
        "      <td>                           Twelve Monkeys (1995)</td>\n",
        "      <td> 0.004446</td>\n",
        "      <td> 1</td>\n",
        "    </tr>\n",
        "    <tr>\n",
        "      <th>7</th>\n",
        "      <td> 2</td>\n",
        "      <td>                  FairyTale: A True Story (1997)</td>\n",
        "      <td> 0.004016</td>\n",
        "      <td> 2</td>\n",
        "    </tr>\n",
        "    <tr>\n",
        "      <th>8</th>\n",
        "      <td> 2</td>\n",
        "      <td>                               Home Alone (1990)</td>\n",
        "      <td> 0.003839</td>\n",
        "      <td> 3</td>\n",
        "    </tr>\n",
        "    <tr>\n",
        "      <th>9</th>\n",
        "      <td> 2</td>\n",
        "      <td>                        Three Colors: Red (1994)</td>\n",
        "      <td> 0.003839</td>\n",
        "      <td> 4</td>\n",
        "    </tr>\n",
        "  </tbody>\n",
        "</table>\n",
        "<p>10 rows \u00d7 4 columns</p>\n",
        "</div>"
       ],
       "metadata": {},
       "output_type": "pyout",
       "prompt_number": 6,
       "text": [
        "   UserID                                       MovieTitle     score  rank\n",
        "0       1                       Mission: Impossible (1996)  0.005362     0\n",
        "1       1                            Twelve Monkeys (1995)  0.004446     1\n",
        "2       1           To Gillian on Her 37th Birthday (1996)  0.003895     2\n",
        "3       1        Lawnmower Man 2: Beyond Cyberspace (1996)  0.003575     3\n",
        "4       1  Dr. Strangelove or: How I Learn to Stop. (1963)  0.003332     4\n",
        "5       2                      My Own Private Idaho (1991)  0.004722     0\n",
        "6       2                            Twelve Monkeys (1995)  0.004446     1\n",
        "7       2                   FairyTale: A True Story (1997)  0.004016     2\n",
        "8       2                                Home Alone (1990)  0.003839     3\n",
        "9       2                         Three Colors: Red (1994)  0.003839     4\n",
        "\n",
        "[10 rows x 4 columns]"
       ]
      }
     ],
     "prompt_number": 6
    },
    {
     "cell_type": "markdown",
     "metadata": {},
     "source": [
      "### Item similarity"
     ]
    },
    {
     "cell_type": "markdown",
     "metadata": {},
     "source": [
      "#### Jaccard method"
     ]
    },
    {
     "cell_type": "code",
     "collapsed": false,
     "input": [
      "jaccard_similarity_model = graphlab.recommender.item_similarity.create(data, \"UserID\", \"MovieTitle\", similarity_type=\"jaccard\")\n",
      "jaccard_similarity_model.training_stats()"
     ],
     "language": "python",
     "metadata": {},
     "outputs": [
      {
       "metadata": {},
       "output_type": "pyout",
       "prompt_number": 7,
       "text": [
        "{'data_load_time': 0.102156,\n",
        " 'elapsed_time': 0.17666199999999999,\n",
        " 'estimated_ram': 6712420.0,\n",
        " 'num_obs_train': 90640,\n",
        " 'num_obs_validate': 0,\n",
        " 'training_time': 0.074506}"
       ]
      }
     ],
     "prompt_number": 7
    },
    {
     "cell_type": "code",
     "collapsed": false,
     "input": [
      "jaccard_similarity_results = jaccard_similarity_model.recommend(data, k=5)\n",
      "jaccard_similarity_results.head()"
     ],
     "language": "python",
     "metadata": {},
     "outputs": [
      {
       "html": [
        "<div style=\"max-height:1000px;max-width:1500px;overflow:auto;\">\n",
        "<table border=\"1\" class=\"dataframe\">\n",
        "  <thead>\n",
        "    <tr style=\"text-align: right;\">\n",
        "      <th></th>\n",
        "      <th>UserID</th>\n",
        "      <th>MovieTitle</th>\n",
        "      <th>score</th>\n",
        "      <th>rank</th>\n",
        "    </tr>\n",
        "  </thead>\n",
        "  <tbody>\n",
        "    <tr>\n",
        "      <th>0</th>\n",
        "      <td> 1</td>\n",
        "      <td>                         Lord of Illusions (1995)</td>\n",
        "      <td> 0.194933</td>\n",
        "      <td> 0</td>\n",
        "    </tr>\n",
        "    <tr>\n",
        "      <th>1</th>\n",
        "      <td> 1</td>\n",
        "      <td>  Dr. Strangelove or: How I Learn to Stop. (1963)</td>\n",
        "      <td> 0.188849</td>\n",
        "      <td> 1</td>\n",
        "    </tr>\n",
        "    <tr>\n",
        "      <th>2</th>\n",
        "      <td> 1</td>\n",
        "      <td> Blood For Dracula (Andy Warhol's Dracula) (1974)</td>\n",
        "      <td> 0.186209</td>\n",
        "      <td> 2</td>\n",
        "    </tr>\n",
        "    <tr>\n",
        "      <th>3</th>\n",
        "      <td> 1</td>\n",
        "      <td>                        Cyrano de Bergerac (1990)</td>\n",
        "      <td> 0.183431</td>\n",
        "      <td> 3</td>\n",
        "    </tr>\n",
        "    <tr>\n",
        "      <th>4</th>\n",
        "      <td> 1</td>\n",
        "      <td>                       Great Dictator, The (1940)</td>\n",
        "      <td> 0.178200</td>\n",
        "      <td> 4</td>\n",
        "    </tr>\n",
        "    <tr>\n",
        "      <th>5</th>\n",
        "      <td> 2</td>\n",
        "      <td>                                Home Alone (1990)</td>\n",
        "      <td> 0.315867</td>\n",
        "      <td> 0</td>\n",
        "    </tr>\n",
        "    <tr>\n",
        "      <th>6</th>\n",
        "      <td> 2</td>\n",
        "      <td>                                Sting, The (1973)</td>\n",
        "      <td> 0.304115</td>\n",
        "      <td> 1</td>\n",
        "    </tr>\n",
        "    <tr>\n",
        "      <th>7</th>\n",
        "      <td> 2</td>\n",
        "      <td>   Mystery Science Theater 3000: The Movie (1996)</td>\n",
        "      <td> 0.302833</td>\n",
        "      <td> 2</td>\n",
        "    </tr>\n",
        "    <tr>\n",
        "      <th>8</th>\n",
        "      <td> 2</td>\n",
        "      <td>                               Money Talks (1997)</td>\n",
        "      <td> 0.302058</td>\n",
        "      <td> 3</td>\n",
        "    </tr>\n",
        "    <tr>\n",
        "      <th>9</th>\n",
        "      <td> 2</td>\n",
        "      <td>                  Free Willy 3: The Rescue (1997)</td>\n",
        "      <td> 0.300227</td>\n",
        "      <td> 4</td>\n",
        "    </tr>\n",
        "  </tbody>\n",
        "</table>\n",
        "<p>10 rows \u00d7 4 columns</p>\n",
        "</div>"
       ],
       "metadata": {},
       "output_type": "pyout",
       "prompt_number": 8,
       "text": [
        "   UserID                                        MovieTitle     score  rank\n",
        "0       1                          Lord of Illusions (1995)  0.194933     0\n",
        "1       1   Dr. Strangelove or: How I Learn to Stop. (1963)  0.188849     1\n",
        "2       1  Blood For Dracula (Andy Warhol's Dracula) (1974)  0.186209     2\n",
        "3       1                         Cyrano de Bergerac (1990)  0.183431     3\n",
        "4       1                        Great Dictator, The (1940)  0.178200     4\n",
        "5       2                                 Home Alone (1990)  0.315867     0\n",
        "6       2                                 Sting, The (1973)  0.304115     1\n",
        "7       2    Mystery Science Theater 3000: The Movie (1996)  0.302833     2\n",
        "8       2                                Money Talks (1997)  0.302058     3\n",
        "9       2                   Free Willy 3: The Rescue (1997)  0.300227     4\n",
        "\n",
        "[10 rows x 4 columns]"
       ]
      }
     ],
     "prompt_number": 8
    },
    {
     "cell_type": "markdown",
     "metadata": {},
     "source": [
      "#### Cosine method"
     ]
    },
    {
     "cell_type": "code",
     "collapsed": false,
     "input": [
      "cosine_similarity_model = graphlab.recommender.item_similarity.create(data, \"UserID\", \"MovieTitle\", similarity_type=\"cosine\")\n",
      "cosine_similarity_model.training_stats()"
     ],
     "language": "python",
     "metadata": {},
     "outputs": [
      {
       "metadata": {},
       "output_type": "pyout",
       "prompt_number": 9,
       "text": [
        "{'data_load_time': 0.102772,\n",
        " 'elapsed_time': 0.249801,\n",
        " 'estimated_ram': 4958360.0,\n",
        " 'num_obs_train': 90640,\n",
        " 'num_obs_validate': 0,\n",
        " 'training_time': 0.147029}"
       ]
      }
     ],
     "prompt_number": 9
    },
    {
     "cell_type": "code",
     "collapsed": false,
     "input": [
      "cosine_similarity_results = cosine_similarity_model.recommend(data, k=5)\n",
      "cosine_similarity_results.head()"
     ],
     "language": "python",
     "metadata": {},
     "outputs": [
      {
       "html": [
        "<div style=\"max-height:1000px;max-width:1500px;overflow:auto;\">\n",
        "<table border=\"1\" class=\"dataframe\">\n",
        "  <thead>\n",
        "    <tr style=\"text-align: right;\">\n",
        "      <th></th>\n",
        "      <th>UserID</th>\n",
        "      <th>MovieTitle</th>\n",
        "      <th>score</th>\n",
        "      <th>rank</th>\n",
        "    </tr>\n",
        "  </thead>\n",
        "  <tbody>\n",
        "    <tr>\n",
        "      <th>0</th>\n",
        "      <td> 1</td>\n",
        "      <td>                         Lord of Illusions (1995)</td>\n",
        "      <td> 0.351498</td>\n",
        "      <td> 0</td>\n",
        "    </tr>\n",
        "    <tr>\n",
        "      <th>1</th>\n",
        "      <td> 1</td>\n",
        "      <td>  Dr. Strangelove or: How I Learn to Stop. (1963)</td>\n",
        "      <td> 0.344433</td>\n",
        "      <td> 1</td>\n",
        "    </tr>\n",
        "    <tr>\n",
        "      <th>2</th>\n",
        "      <td> 1</td>\n",
        "      <td>        Lawnmower Man 2: Beyond Cyberspace (1996)</td>\n",
        "      <td> 0.334883</td>\n",
        "      <td> 2</td>\n",
        "    </tr>\n",
        "    <tr>\n",
        "      <th>3</th>\n",
        "      <td> 1</td>\n",
        "      <td> Blood For Dracula (Andy Warhol's Dracula) (1974)</td>\n",
        "      <td> 0.331224</td>\n",
        "      <td> 3</td>\n",
        "    </tr>\n",
        "    <tr>\n",
        "      <th>4</th>\n",
        "      <td> 1</td>\n",
        "      <td>                                    U Turn (1997)</td>\n",
        "      <td> 0.331063</td>\n",
        "      <td> 4</td>\n",
        "    </tr>\n",
        "    <tr>\n",
        "      <th>5</th>\n",
        "      <td> 2</td>\n",
        "      <td>                                Home Alone (1990)</td>\n",
        "      <td> 0.496643</td>\n",
        "      <td> 0</td>\n",
        "    </tr>\n",
        "    <tr>\n",
        "      <th>6</th>\n",
        "      <td> 2</td>\n",
        "      <td>                                Sting, The (1973)</td>\n",
        "      <td> 0.475086</td>\n",
        "      <td> 1</td>\n",
        "    </tr>\n",
        "    <tr>\n",
        "      <th>7</th>\n",
        "      <td> 2</td>\n",
        "      <td>                               Money Talks (1997)</td>\n",
        "      <td> 0.473606</td>\n",
        "      <td> 2</td>\n",
        "    </tr>\n",
        "    <tr>\n",
        "      <th>8</th>\n",
        "      <td> 2</td>\n",
        "      <td>   Mystery Science Theater 3000: The Movie (1996)</td>\n",
        "      <td> 0.471531</td>\n",
        "      <td> 3</td>\n",
        "    </tr>\n",
        "    <tr>\n",
        "      <th>9</th>\n",
        "      <td> 2</td>\n",
        "      <td>                  Free Willy 3: The Rescue (1997)</td>\n",
        "      <td> 0.469790</td>\n",
        "      <td> 4</td>\n",
        "    </tr>\n",
        "  </tbody>\n",
        "</table>\n",
        "<p>10 rows \u00d7 4 columns</p>\n",
        "</div>"
       ],
       "metadata": {},
       "output_type": "pyout",
       "prompt_number": 10,
       "text": [
        "   UserID                                        MovieTitle     score  rank\n",
        "0       1                          Lord of Illusions (1995)  0.351498     0\n",
        "1       1   Dr. Strangelove or: How I Learn to Stop. (1963)  0.344433     1\n",
        "2       1         Lawnmower Man 2: Beyond Cyberspace (1996)  0.334883     2\n",
        "3       1  Blood For Dracula (Andy Warhol's Dracula) (1974)  0.331224     3\n",
        "4       1                                     U Turn (1997)  0.331063     4\n",
        "5       2                                 Home Alone (1990)  0.496643     0\n",
        "6       2                                 Sting, The (1973)  0.475086     1\n",
        "7       2                                Money Talks (1997)  0.473606     2\n",
        "8       2    Mystery Science Theater 3000: The Movie (1996)  0.471531     3\n",
        "9       2                   Free Willy 3: The Rescue (1997)  0.469790     4\n",
        "\n",
        "[10 rows x 4 columns]"
       ]
      }
     ],
     "prompt_number": 10
    },
    {
     "cell_type": "markdown",
     "metadata": {},
     "source": [
      "### Linear regression"
     ]
    },
    {
     "cell_type": "code",
     "collapsed": false,
     "input": [
      "linear_regression_model = graphlab.recommender.linear_regression.create(data, \"UserID\", \"MovieTitle\", \"Ratings\")\n",
      "linear_regression_model.training_stats()"
     ],
     "language": "python",
     "metadata": {},
     "outputs": [
      {
       "metadata": {},
       "output_type": "pyout",
       "prompt_number": 11,
       "text": [
        "{'data_load_time': 0.110569,\n",
        " 'elapsed_time': 24.725987,\n",
        " 'num_obs_train': 90640,\n",
        " 'num_obs_validate': 0,\n",
        " 'training_loss': [14.03449510229666,\n",
        "  1.0511278775775414,\n",
        "  0.9407517091551879,\n",
        "  0.9210780700535169,\n",
        "  0.9085530708786032,\n",
        "  0.8859073790577636,\n",
        "  0.8828233144561121,\n",
        "  0.8702235253055717,\n",
        "  0.8713609464141971,\n",
        "  0.8636130572337619,\n",
        "  0.8625954162886758,\n",
        "  0.8631811820194195,\n",
        "  0.8562897752176925,\n",
        "  0.8570189335727452,\n",
        "  0.8557022336991805,\n",
        "  0.8509407254768466,\n",
        "  0.8518378233569717,\n",
        "  0.8484527499338395,\n",
        "  0.8465414907440186,\n",
        "  0.8469499454167553,\n",
        "  0.8471007119413381,\n",
        "  0.8445586879108424,\n",
        "  0.8443927445070555,\n",
        "  0.8446294154961751,\n",
        "  0.8450858669410731,\n",
        "  0.8441895844982249,\n",
        "  0.8410180484555214,\n",
        "  0.8415344395849499,\n",
        "  0.8402211930873028,\n",
        "  0.8397273171214943,\n",
        "  0.8395979067335121,\n",
        "  0.8391544986365598,\n",
        "  0.8386994806571252,\n",
        "  0.8387680074786964,\n",
        "  0.8382148473497447,\n",
        "  0.8378633567806376,\n",
        "  0.8380466055723266,\n",
        "  0.8378384910200761,\n",
        "  0.8373685656755131,\n",
        "  0.8375352431039096,\n",
        "  0.837868782197879,\n",
        "  0.8374835990307881,\n",
        "  0.8372418202941699,\n",
        "  0.8372255544039868,\n",
        "  0.8371977800550597,\n",
        "  0.8370280432863894,\n",
        "  0.8369227557005557,\n",
        "  0.8369273687819683,\n",
        "  0.8368925009998996,\n",
        "  0.8369721019800673,\n",
        "  0.8368044399133379,\n",
        "  0.8368209386434655,\n",
        "  0.8369128315754973,\n",
        "  0.8367527623501836,\n",
        "  0.8367171350625979,\n",
        "  0.8366983803402931,\n",
        "  0.8367317909490163,\n",
        "  0.8367064726290497,\n",
        "  0.8366721111875324,\n",
        "  0.8366872000032088,\n",
        "  0.8367021501185105,\n",
        "  0.8366727836574122],\n",
        " 'training_time': 24.615418,\n",
        " 'validation_loss': [0.0]}"
       ]
      }
     ],
     "prompt_number": 11
    },
    {
     "cell_type": "code",
     "collapsed": false,
     "input": [
      "linear_regression_results = linear_regression_model.recommend(data, k=5)\n",
      "linear_regression_results.head()"
     ],
     "language": "python",
     "metadata": {},
     "outputs": [
      {
       "html": [
        "<div style=\"max-height:1000px;max-width:1500px;overflow:auto;\">\n",
        "<table border=\"1\" class=\"dataframe\">\n",
        "  <thead>\n",
        "    <tr style=\"text-align: right;\">\n",
        "      <th></th>\n",
        "      <th>UserID</th>\n",
        "      <th>MovieTitle</th>\n",
        "      <th>score</th>\n",
        "      <th>rank</th>\n",
        "    </tr>\n",
        "  </thead>\n",
        "  <tbody>\n",
        "    <tr>\n",
        "      <th>0</th>\n",
        "      <td> 1</td>\n",
        "      <td>        Leave It to Beaver (1997)</td>\n",
        "      <td> 5.533733</td>\n",
        "      <td> 0</td>\n",
        "    </tr>\n",
        "    <tr>\n",
        "      <th>1</th>\n",
        "      <td> 1</td>\n",
        "      <td> Streetcar Named Desire, A (1951)</td>\n",
        "      <td> 5.232797</td>\n",
        "      <td> 1</td>\n",
        "    </tr>\n",
        "    <tr>\n",
        "      <th>2</th>\n",
        "      <td> 1</td>\n",
        "      <td>     To Kill a Mockingbird (1962)</td>\n",
        "      <td> 5.145789</td>\n",
        "      <td> 2</td>\n",
        "    </tr>\n",
        "    <tr>\n",
        "      <th>3</th>\n",
        "      <td> 1</td>\n",
        "      <td>           Days of Thunder (1990)</td>\n",
        "      <td> 5.097071</td>\n",
        "      <td> 3</td>\n",
        "    </tr>\n",
        "    <tr>\n",
        "      <th>4</th>\n",
        "      <td> 1</td>\n",
        "      <td>               Shadow, The (1994)</td>\n",
        "      <td> 5.041303</td>\n",
        "      <td> 4</td>\n",
        "    </tr>\n",
        "    <tr>\n",
        "      <th>5</th>\n",
        "      <td> 2</td>\n",
        "      <td>        Leave It to Beaver (1997)</td>\n",
        "      <td> 4.936384</td>\n",
        "      <td> 0</td>\n",
        "    </tr>\n",
        "    <tr>\n",
        "      <th>6</th>\n",
        "      <td> 2</td>\n",
        "      <td> Streetcar Named Desire, A (1951)</td>\n",
        "      <td> 4.635448</td>\n",
        "      <td> 1</td>\n",
        "    </tr>\n",
        "    <tr>\n",
        "      <th>7</th>\n",
        "      <td> 2</td>\n",
        "      <td>     To Kill a Mockingbird (1962)</td>\n",
        "      <td> 4.548441</td>\n",
        "      <td> 2</td>\n",
        "    </tr>\n",
        "    <tr>\n",
        "      <th>8</th>\n",
        "      <td> 2</td>\n",
        "      <td>           Days of Thunder (1990)</td>\n",
        "      <td> 4.499722</td>\n",
        "      <td> 3</td>\n",
        "    </tr>\n",
        "    <tr>\n",
        "      <th>9</th>\n",
        "      <td> 2</td>\n",
        "      <td>               Shadow, The (1994)</td>\n",
        "      <td> 4.443954</td>\n",
        "      <td> 4</td>\n",
        "    </tr>\n",
        "  </tbody>\n",
        "</table>\n",
        "<p>10 rows \u00d7 4 columns</p>\n",
        "</div>"
       ],
       "metadata": {},
       "output_type": "pyout",
       "prompt_number": 12,
       "text": [
        "   UserID                        MovieTitle     score  rank\n",
        "0       1         Leave It to Beaver (1997)  5.533733     0\n",
        "1       1  Streetcar Named Desire, A (1951)  5.232797     1\n",
        "2       1      To Kill a Mockingbird (1962)  5.145789     2\n",
        "3       1            Days of Thunder (1990)  5.097071     3\n",
        "4       1                Shadow, The (1994)  5.041303     4\n",
        "5       2         Leave It to Beaver (1997)  4.936384     0\n",
        "6       2  Streetcar Named Desire, A (1951)  4.635448     1\n",
        "7       2      To Kill a Mockingbird (1962)  4.548441     2\n",
        "8       2            Days of Thunder (1990)  4.499722     3\n",
        "9       2                Shadow, The (1994)  4.443954     4\n",
        "\n",
        "[10 rows x 4 columns]"
       ]
      }
     ],
     "prompt_number": 12
    },
    {
     "cell_type": "markdown",
     "metadata": {},
     "source": [
      "### Item-means"
     ]
    },
    {
     "cell_type": "code",
     "collapsed": false,
     "input": [
      "item_means_model = graphlab.recommender.item_means.create(data, \"UserID\", \"MovieTitle\", \"Ratings\")\n",
      "item_means_model.training_stats()"
     ],
     "language": "python",
     "metadata": {},
     "outputs": [
      {
       "metadata": {},
       "output_type": "pyout",
       "prompt_number": 13,
       "text": [
        "{'data_load_time': 0.100417,\n",
        " 'elapsed_time': 0.154925,\n",
        " 'num_obs_train': 90640,\n",
        " 'num_obs_validate': 0,\n",
        " 'training_time': 0.054508}"
       ]
      }
     ],
     "prompt_number": 13
    },
    {
     "cell_type": "code",
     "collapsed": false,
     "input": [
      "item_means_results = item_means_model.recommend(data, k=5)\n",
      "item_means_results.head()"
     ],
     "language": "python",
     "metadata": {},
     "outputs": [
      {
       "html": [
        "<div style=\"max-height:1000px;max-width:1500px;overflow:auto;\">\n",
        "<table border=\"1\" class=\"dataframe\">\n",
        "  <thead>\n",
        "    <tr style=\"text-align: right;\">\n",
        "      <th></th>\n",
        "      <th>UserID</th>\n",
        "      <th>MovieTitle</th>\n",
        "      <th>score</th>\n",
        "      <th>rank</th>\n",
        "    </tr>\n",
        "  </thead>\n",
        "  <tbody>\n",
        "    <tr>\n",
        "      <th>0</th>\n",
        "      <td> 1</td>\n",
        "      <td>           Days of Thunder (1990)</td>\n",
        "      <td> 4.869565</td>\n",
        "      <td> 0</td>\n",
        "    </tr>\n",
        "    <tr>\n",
        "      <th>1</th>\n",
        "      <td> 1</td>\n",
        "      <td>        Leave It to Beaver (1997)</td>\n",
        "      <td> 4.818182</td>\n",
        "      <td> 1</td>\n",
        "    </tr>\n",
        "    <tr>\n",
        "      <th>2</th>\n",
        "      <td> 1</td>\n",
        "      <td> Streetcar Named Desire, A (1951)</td>\n",
        "      <td> 4.703704</td>\n",
        "      <td> 2</td>\n",
        "    </tr>\n",
        "    <tr>\n",
        "      <th>3</th>\n",
        "      <td> 1</td>\n",
        "      <td>                  Sleepers (1996)</td>\n",
        "      <td> 4.666667</td>\n",
        "      <td> 3</td>\n",
        "    </tr>\n",
        "    <tr>\n",
        "      <th>4</th>\n",
        "      <td> 1</td>\n",
        "      <td>                   Twister (1996)</td>\n",
        "      <td> 4.666667</td>\n",
        "      <td> 4</td>\n",
        "    </tr>\n",
        "    <tr>\n",
        "      <th>5</th>\n",
        "      <td> 2</td>\n",
        "      <td>           Days of Thunder (1990)</td>\n",
        "      <td> 4.869565</td>\n",
        "      <td> 0</td>\n",
        "    </tr>\n",
        "    <tr>\n",
        "      <th>6</th>\n",
        "      <td> 2</td>\n",
        "      <td>        Leave It to Beaver (1997)</td>\n",
        "      <td> 4.818182</td>\n",
        "      <td> 1</td>\n",
        "    </tr>\n",
        "    <tr>\n",
        "      <th>7</th>\n",
        "      <td> 2</td>\n",
        "      <td> Streetcar Named Desire, A (1951)</td>\n",
        "      <td> 4.703704</td>\n",
        "      <td> 2</td>\n",
        "    </tr>\n",
        "    <tr>\n",
        "      <th>8</th>\n",
        "      <td> 2</td>\n",
        "      <td>                Craft, The (1996)</td>\n",
        "      <td> 4.666667</td>\n",
        "      <td> 3</td>\n",
        "    </tr>\n",
        "    <tr>\n",
        "      <th>9</th>\n",
        "      <td> 2</td>\n",
        "      <td>                  Sleepers (1996)</td>\n",
        "      <td> 4.666667</td>\n",
        "      <td> 4</td>\n",
        "    </tr>\n",
        "  </tbody>\n",
        "</table>\n",
        "<p>10 rows \u00d7 4 columns</p>\n",
        "</div>"
       ],
       "metadata": {},
       "output_type": "pyout",
       "prompt_number": 14,
       "text": [
        "   UserID                        MovieTitle     score  rank\n",
        "0       1            Days of Thunder (1990)  4.869565     0\n",
        "1       1         Leave It to Beaver (1997)  4.818182     1\n",
        "2       1  Streetcar Named Desire, A (1951)  4.703704     2\n",
        "3       1                   Sleepers (1996)  4.666667     3\n",
        "4       1                    Twister (1996)  4.666667     4\n",
        "5       2            Days of Thunder (1990)  4.869565     0\n",
        "6       2         Leave It to Beaver (1997)  4.818182     1\n",
        "7       2  Streetcar Named Desire, A (1951)  4.703704     2\n",
        "8       2                 Craft, The (1996)  4.666667     3\n",
        "9       2                   Sleepers (1996)  4.666667     4\n",
        "\n",
        "[10 rows x 4 columns]"
       ]
      }
     ],
     "prompt_number": 14
    },
    {
     "cell_type": "markdown",
     "metadata": {},
     "source": [
      "### Matrix factorization"
     ]
    },
    {
     "cell_type": "code",
     "collapsed": false,
     "input": [
      "matrix_factorization_model = graphlab.recommender.matrix_factorization.create(data, \"UserID\", \"MovieTitle\", \"Ratings\")\n",
      "matrix_factorization_model.training_stats()"
     ],
     "language": "python",
     "metadata": {},
     "outputs": [
      {
       "metadata": {},
       "output_type": "pyout",
       "prompt_number": 15,
       "text": [
        "{'data_load_time': 0.100509,\n",
        " 'elapsed_time': 0.92745,\n",
        " 'global_bias': 3.579181376875552,\n",
        " 'niter': 10,\n",
        " 'num_obs_train': 90640,\n",
        " 'num_obs_validate': 0,\n",
        " 'obj_value': [61791.22856586882,\n",
        "  54748.94787472783,\n",
        "  51544.45426040383,\n",
        "  49705.86096752479,\n",
        "  48558.53424831602,\n",
        "  47743.85531790417,\n",
        "  47121.95123868251,\n",
        "  46633.635915400475,\n",
        "  46251.41808792202,\n",
        "  45950.22464710239],\n",
        " 'rmse_progress': [0.8220126179010394,\n",
        "  0.7729494329205812,\n",
        "  0.7497813016851108,\n",
        "  0.7363057019921491,\n",
        "  0.7278233672173346,\n",
        "  0.7217568867713918,\n",
        "  0.7170973970577935,\n",
        "  0.7134193719513343,\n",
        "  0.7105314341401869,\n",
        "  0.7082558146222278],\n",
        " 'runtime': 0.6013729999999999,\n",
        " 'training_rmse': 0.7082558146222278,\n",
        " 'training_time': 0.826941}"
       ]
      }
     ],
     "prompt_number": 15
    },
    {
     "cell_type": "code",
     "collapsed": false,
     "input": [
      "matrix_factorization_results = matrix_factorization_model.recommend(data, k=5)\n",
      "matrix_factorization_results.head()"
     ],
     "language": "python",
     "metadata": {},
     "outputs": [
      {
       "html": [
        "<div style=\"max-height:1000px;max-width:1500px;overflow:auto;\">\n",
        "<table border=\"1\" class=\"dataframe\">\n",
        "  <thead>\n",
        "    <tr style=\"text-align: right;\">\n",
        "      <th></th>\n",
        "      <th>UserID</th>\n",
        "      <th>MovieTitle</th>\n",
        "      <th>score</th>\n",
        "      <th>rank</th>\n",
        "    </tr>\n",
        "  </thead>\n",
        "  <tbody>\n",
        "    <tr>\n",
        "      <th>0</th>\n",
        "      <td> 1</td>\n",
        "      <td>             Ace Ventura: When Nature Calls (1995)</td>\n",
        "      <td> 6.135626</td>\n",
        "      <td> 0</td>\n",
        "    </tr>\n",
        "    <tr>\n",
        "      <th>1</th>\n",
        "      <td> 1</td>\n",
        "      <td>    Manon of the Spring (Manon des sources) (1986)</td>\n",
        "      <td> 6.022146</td>\n",
        "      <td> 1</td>\n",
        "    </tr>\n",
        "    <tr>\n",
        "      <th>2</th>\n",
        "      <td> 1</td>\n",
        "      <td>                         Leave It to Beaver (1997)</td>\n",
        "      <td> 6.020266</td>\n",
        "      <td> 2</td>\n",
        "    </tr>\n",
        "    <tr>\n",
        "      <th>3</th>\n",
        "      <td> 1</td>\n",
        "      <td>                                  Star Wars (1977)</td>\n",
        "      <td> 5.919797</td>\n",
        "      <td> 3</td>\n",
        "    </tr>\n",
        "    <tr>\n",
        "      <th>4</th>\n",
        "      <td> 1</td>\n",
        "      <td>                                 Blown Away (1994)</td>\n",
        "      <td> 5.913419</td>\n",
        "      <td> 4</td>\n",
        "    </tr>\n",
        "    <tr>\n",
        "      <th>5</th>\n",
        "      <td> 2</td>\n",
        "      <td>                Ghost and the Darkness, The (1996)</td>\n",
        "      <td> 6.873148</td>\n",
        "      <td> 0</td>\n",
        "    </tr>\n",
        "    <tr>\n",
        "      <th>6</th>\n",
        "      <td> 2</td>\n",
        "      <td> City Slickers II: The Legend of Curly's Gold (...</td>\n",
        "      <td> 6.342756</td>\n",
        "      <td> 1</td>\n",
        "    </tr>\n",
        "    <tr>\n",
        "      <th>7</th>\n",
        "      <td> 2</td>\n",
        "      <td>                 Nightmare on Elm Street, A (1984)</td>\n",
        "      <td> 6.300114</td>\n",
        "      <td> 2</td>\n",
        "    </tr>\n",
        "    <tr>\n",
        "      <th>8</th>\n",
        "      <td> 2</td>\n",
        "      <td>                                  Screamers (1995)</td>\n",
        "      <td> 6.226359</td>\n",
        "      <td> 3</td>\n",
        "    </tr>\n",
        "    <tr>\n",
        "      <th>9</th>\n",
        "      <td> 2</td>\n",
        "      <td>                                 Wishmaster (1997)</td>\n",
        "      <td> 6.154661</td>\n",
        "      <td> 4</td>\n",
        "    </tr>\n",
        "  </tbody>\n",
        "</table>\n",
        "<p>10 rows \u00d7 4 columns</p>\n",
        "</div>"
       ],
       "metadata": {},
       "output_type": "pyout",
       "prompt_number": 16,
       "text": [
        "   UserID                                         MovieTitle     score  rank\n",
        "0       1              Ace Ventura: When Nature Calls (1995)  6.135626     0\n",
        "1       1     Manon of the Spring (Manon des sources) (1986)  6.022146     1\n",
        "2       1                          Leave It to Beaver (1997)  6.020266     2\n",
        "3       1                                   Star Wars (1977)  5.919797     3\n",
        "4       1                                  Blown Away (1994)  5.913419     4\n",
        "5       2                 Ghost and the Darkness, The (1996)  6.873148     0\n",
        "6       2  City Slickers II: The Legend of Curly's Gold (...  6.342756     1\n",
        "7       2                  Nightmare on Elm Street, A (1984)  6.300114     2\n",
        "8       2                                   Screamers (1995)  6.226359     3\n",
        "9       2                                  Wishmaster (1997)  6.154661     4\n",
        "\n",
        "[10 rows x 4 columns]"
       ]
      }
     ],
     "prompt_number": 16
    },
    {
     "cell_type": "markdown",
     "metadata": {},
     "source": [
      "## Comparing models and recommendations"
     ]
    },
    {
     "cell_type": "markdown",
     "metadata": {},
     "source": [
      "### 2-Item model stats"
     ]
    },
    {
     "cell_type": "code",
     "collapsed": false,
     "input": [
      "popularity_stats = popularity_model.evaluate(data)"
     ],
     "language": "python",
     "metadata": {},
     "outputs": [
      {
       "output_type": "stream",
       "stream": "stdout",
       "text": [
        "\n",
        "Precision and recall summary statistics by cutoff\n",
        "               precision      recall\n",
        "cutoff                              \n",
        "5      count  943.000000  943.000000\n",
        "       mean     0.511983    0.062602\n",
        "       std      0.271065    0.109070\n",
        "       min      0.000000    0.000000\n",
        "       25%      0.400000    0.018868\n",
        "       50%      0.400000    0.031496\n",
        "       75%      0.800000    0.060606\n",
        "       max      1.000000    1.000000\n",
        "10     count  943.000000  943.000000\n",
        "       mean     0.485578    0.094808\n",
        "       std      0.257383    0.114367\n",
        "       min      0.000000    0.000000\n",
        "       25%      0.300000    0.040936\n",
        "       50%      0.500000    0.062500\n",
        "       75%      0.700000    0.100000\n",
        "       max      1.000000    1.000000\n",
        "15     count  943.000000  943.000000\n",
        "       mean     0.455072    0.123406\n",
        "       std      0.260088    0.126186\n",
        "       min      0.000000    0.000000\n",
        "       25%      0.200000    0.058824\n",
        "       50%      0.400000    0.086957\n",
        "       75%      0.666667    0.137931\n",
        "       max      1.000000    1.000000\n",
        "\n",
        "[24 rows x 2 columns]"
       ]
      },
      {
       "output_type": "stream",
       "stream": "stdout",
       "text": [
        "\n"
       ]
      }
     ],
     "prompt_number": 17
    },
    {
     "cell_type": "code",
     "collapsed": false,
     "input": [
      "jaccard_similarity_stats = jaccard_similarity_model.evaluate(data)"
     ],
     "language": "python",
     "metadata": {},
     "outputs": [
      {
       "output_type": "stream",
       "stream": "stdout",
       "text": [
        "\n",
        "Precision and recall summary statistics by cutoff\n",
        "               precision      recall\n",
        "cutoff                              \n",
        "5      count  943.000000  943.000000\n",
        "       mean     0.815483    0.128642\n",
        "       std      0.171585    0.197928\n",
        "       min      0.200000    0.008576\n",
        "       25%      0.800000    0.031873\n",
        "       50%      0.800000    0.059701\n",
        "       75%      1.000000    0.120000\n",
        "       max      1.000000    1.000000\n",
        "10     count  943.000000  943.000000\n",
        "       mean     0.771156    0.202812\n",
        "       std      0.184355    0.234097\n",
        "       min      0.100000    0.017153\n",
        "       25%      0.600000    0.064368\n",
        "       50%      0.800000    0.112903\n",
        "       75%      0.900000    0.219512\n",
        "       max      1.000000    1.000000\n",
        "15     count  943.000000  943.000000\n",
        "       mean     0.712619    0.246817\n",
        "       std      0.211801    0.238978\n",
        "       min      0.066667    0.025729\n",
        "       25%      0.600000    0.094414\n",
        "       50%      0.733333    0.156863\n",
        "       75%      0.866667    0.283482\n",
        "       max      1.000000    1.000000\n",
        "\n",
        "[24 rows x 2 columns]"
       ]
      },
      {
       "output_type": "stream",
       "stream": "stdout",
       "text": [
        "\n"
       ]
      }
     ],
     "prompt_number": 18
    },
    {
     "cell_type": "code",
     "collapsed": false,
     "input": [
      "cosine_similarity_stats = cosine_similarity_model.evaluate(data)"
     ],
     "language": "python",
     "metadata": {},
     "outputs": [
      {
       "output_type": "stream",
       "stream": "stdout",
       "text": [
        "\n",
        "Precision and recall summary statistics by cutoff\n",
        "               precision      recall\n",
        "cutoff                              \n",
        "5      count  943.000000  943.000000\n",
        "       mean     0.747190    0.108954\n",
        "       std      0.214669    0.169065\n",
        "       min      0.000000    0.000000\n",
        "       25%      0.600000    0.029762\n",
        "       50%      0.800000    0.054054\n",
        "       75%      1.000000    0.100000\n",
        "       max      1.000000    1.000000\n",
        "10     count  943.000000  943.000000\n",
        "       mean     0.712831    0.173479\n",
        "       std      0.221304    0.197995\n",
        "       min      0.100000    0.017153\n",
        "       25%      0.600000    0.060504\n",
        "       50%      0.700000    0.103448\n",
        "       75%      0.900000    0.189189\n",
        "       max      1.000000    1.000000\n",
        "15     count  943.000000  943.000000\n",
        "       mean     0.664687    0.215815\n",
        "       std      0.239595    0.206682\n",
        "       min      0.066667    0.025729\n",
        "       25%      0.466667    0.088710\n",
        "       50%      0.666667    0.144928\n",
        "       75%      0.866667    0.250000\n",
        "       max      1.000000    1.000000\n",
        "\n",
        "[24 rows x 2 columns]"
       ]
      },
      {
       "output_type": "stream",
       "stream": "stdout",
       "text": [
        "\n"
       ]
      }
     ],
     "prompt_number": 19
    },
    {
     "cell_type": "markdown",
     "metadata": {},
     "source": [
      "### 2-item with target model stats\n",
      "Use root-mean-squared error (RMSE) to determine the accuracy of the recommendation model."
     ]
    },
    {
     "cell_type": "code",
     "collapsed": false,
     "input": [
      "linear_regression_stats = linear_regression_model.evaluate(data)"
     ],
     "language": "python",
     "metadata": {},
     "outputs": [
      {
       "output_type": "stream",
       "stream": "stdout",
       "text": [
        "\n",
        "Overall RMSE:  0.913386965006\n",
        "\n",
        "Per User RMSE (best)\n",
        "   UserID      rmse  count\n",
        "0     857  0.079857      1\n",
        "\n",
        "[1 rows x 3 columns]"
       ]
      },
      {
       "output_type": "stream",
       "stream": "stdout",
       "text": [
        "\n",
        "\n",
        "Per User RMSE (worst)\n",
        "   UserID      rmse  count\n",
        "0     913  1.717027      2\n",
        "\n",
        "[1 rows x 3 columns]"
       ]
      },
      {
       "output_type": "stream",
       "stream": "stdout",
       "text": [
        "\n",
        "\n",
        "Per Item RMSE (best)\n",
        "                                  MovieTitle      rmse  count\n",
        "0  Naked Gun 33 1/3: The Final Insult (1994)  0.470382     21\n",
        "\n",
        "[1 rows x 3 columns]"
       ]
      },
      {
       "output_type": "stream",
       "stream": "stdout",
       "text": [
        "\n",
        "\n",
        "Per Item RMSE (worst)\n",
        "              MovieTitle      rmse  count\n",
        "0  Godfather, The (1972)  1.744273     23\n",
        "\n",
        "[1 rows x 3 columns]"
       ]
      },
      {
       "output_type": "stream",
       "stream": "stdout",
       "text": [
        "\n"
       ]
      }
     ],
     "prompt_number": 20
    },
    {
     "cell_type": "code",
     "collapsed": false,
     "input": [
      "item_means_stats = item_means_model.evaluate(data)"
     ],
     "language": "python",
     "metadata": {},
     "outputs": [
      {
       "output_type": "stream",
       "stream": "stdout",
       "text": [
        "\n",
        "Overall RMSE:  1.02175327227\n",
        "\n",
        "Per User RMSE (best)\n",
        "   UserID      rmse  count\n",
        "0     857  0.097484      1\n",
        "\n",
        "[1 rows x 3 columns]"
       ]
      },
      {
       "output_type": "stream",
       "stream": "stdout",
       "text": [
        "\n",
        "\n",
        "Per User RMSE (worst)\n",
        "   UserID      rmse  count\n",
        "0     599  2.965261      1\n",
        "\n",
        "[1 rows x 3 columns]"
       ]
      },
      {
       "output_type": "stream",
       "stream": "stdout",
       "text": [
        "\n",
        "\n",
        "Per Item RMSE (best)\n",
        "               MovieTitle      rmse  count\n",
        "0  Days of Thunder (1990)  0.336781     23\n",
        "\n",
        "[1 rows x 3 columns]"
       ]
      },
      {
       "output_type": "stream",
       "stream": "stdout",
       "text": [
        "\n",
        "\n",
        "Per Item RMSE (worst)\n",
        "                   MovieTitle      rmse  count\n",
        "0  Father of the Bride (1950)  1.737593     26\n",
        "\n",
        "[1 rows x 3 columns]"
       ]
      },
      {
       "output_type": "stream",
       "stream": "stdout",
       "text": [
        "\n"
       ]
      }
     ],
     "prompt_number": 21
    },
    {
     "cell_type": "code",
     "collapsed": false,
     "input": [
      "matrix_factorization_stats = matrix_factorization_model.evaluate(data)"
     ],
     "language": "python",
     "metadata": {},
     "outputs": [
      {
       "output_type": "stream",
       "stream": "stdout",
       "text": [
        "\n",
        "Overall RMSE:  0.708255814622\n",
        "\n",
        "Per User RMSE (best)\n",
        "   UserID      rmse  count\n",
        "0     857  0.000001      1\n",
        "\n",
        "[1 rows x 3 columns]"
       ]
      },
      {
       "output_type": "stream",
       "stream": "stdout",
       "text": [
        "\n",
        "\n",
        "Per User RMSE (worst)\n",
        "   UserID     rmse  count\n",
        "0      17  0.98318     92\n",
        "\n",
        "[1 rows x 3 columns]"
       ]
      },
      {
       "output_type": "stream",
       "stream": "stdout",
       "text": [
        "\n",
        "\n",
        "Per Item RMSE (best)\n",
        "                                      MovieTitle      rmse  count\n",
        "0  Homeward Bound: The Incredible Journey (1993)  0.179486     20\n",
        "\n",
        "[1 rows x 3 columns]"
       ]
      },
      {
       "output_type": "stream",
       "stream": "stdout",
       "text": [
        "\n",
        "\n",
        "Per Item RMSE (worst)\n",
        "              MovieTitle      rmse  count\n",
        "0  Basic Instinct (1992)  1.034267     86\n",
        "\n",
        "[1 rows x 3 columns]"
       ]
      },
      {
       "output_type": "stream",
       "stream": "stdout",
       "text": [
        "\n"
       ]
      }
     ],
     "prompt_number": 22
    },
    {
     "cell_type": "markdown",
     "metadata": {},
     "source": [
      "### Compare 2-item models"
     ]
    },
    {
     "cell_type": "code",
     "collapsed": false,
     "input": [
      "compare_precision = graphlab.recommender.compare_models(data,\n",
      "                                                        [popularity_model, jaccard_similarity_model, cosine_similarity_model],\n",
      "                                                        [\"popularity\", \"jaccard similarity\", \"cosine similarity\"])"
     ],
     "language": "python",
     "metadata": {},
     "outputs": [
      {
       "output_type": "stream",
       "stream": "stderr",
       "text": [
        "/usr/local/lib/python2.7/site-packages/matplotlib/figure.py:371: UserWarning: matplotlib is currently using a non-GUI backend, so cannot show the figure\n",
        "  \"matplotlib is currently using a non-GUI backend, \"\n"
       ]
      },
      {
       "metadata": {},
       "output_type": "display_data",
       "png": "[encoded data removed]",
       "text": [
        "<matplotlib.figure.Figure at 0x10d33c650>"
       ]
      }
     ],
     "prompt_number": 23
    },
    {
     "cell_type": "markdown",
     "metadata": {},
     "source": [
      "We see that the Jaccard method of item similarity is the best of predictor of the three algorithms. However, this algorithms fall sort because they only compare users that have seen the same movies and don't take into account the ratings of the movies seen."
     ]
    },
    {
     "cell_type": "code",
     "collapsed": false,
     "input": [
      "compare_rmse = graphlab.recommender.compare_models(data,\n",
      "                                                   [linear_regression_model, item_means_model, matrix_factorization_model],\n",
      "                                                   [\"linear regression\", \"item means\", \"matrix factorization\"])"
     ],
     "language": "python",
     "metadata": {},
     "outputs": [
      {
       "metadata": {},
       "output_type": "display_data",
       "png": "[encoded data removed]",
       "text": [
        "<matplotlib.figure.Figure at 0x10db74f90>"
       ]
      },
      {
       "metadata": {},
       "output_type": "display_data",
       "png": "[encoded data removed]",
       "text": [
        "<matplotlib.figure.Figure at 0x10e003fd0>"
       ]
      },
      {
       "metadata": {},
       "output_type": "display_data",
       "png": "[encoded data removed]",
       "text": [
        "<matplotlib.figure.Figure at 0x10c1873d0>"
       ]
      }
     ],
     "prompt_number": 24
    },
    {
     "cell_type": "markdown",
     "metadata": {},
     "source": [
      "We see that matrix factorization is the best predictor of the three algorithms that use ratings as a target as it has the best RSME per user and per item."
     ]
    },
    {
     "cell_type": "markdown",
     "metadata": {},
     "source": [
      "## Tuning a model\n",
      "Matrix factorization provided the best RSME, so we will use that for our algorithm. But, can we tune the model for even better results by using different regularization weights and latent factors?"
     ]
    },
    {
     "cell_type": "code",
     "collapsed": false,
     "input": [
      "models = []\n",
      "reg_values = [0.001, 0.01, 0.1, 1, 10, 100, 1000]\n",
      "for r in reg_values:\n",
      "    models.append(graphlab.recommender.matrix_factorization.create(data, \"UserID\", \"MovieTitle\", \"Ratings\", D=10, reg=r))"
     ],
     "language": "python",
     "metadata": {},
     "outputs": [],
     "prompt_number": 25
    },
    {
     "cell_type": "code",
     "collapsed": false,
     "input": [
      "rmse_train = []\n",
      "for x in range(len(reg_values)):\n",
      "    rmse_train.append(models[x].training_stats()['training_rmse'])"
     ],
     "language": "python",
     "metadata": {},
     "outputs": [],
     "prompt_number": 26
    },
    {
     "cell_type": "code",
     "collapsed": false,
     "input": [
      "(fig, ax) = plt.subplots(figsize=(10, 8))\n",
      "[p1] = ax.semilogx(reg_values, rmse_train)\n",
      "ax.set_ylim([0.5, 1])\n",
      "ax.set_xlabel('Regularization', fontsize=20)\n",
      "ax.set_ylabel('RMSE', fontsize=20)\n",
      "ax.legend([p1], [\"Training\"])\n",
      "fig.show()"
     ],
     "language": "python",
     "metadata": {},
     "outputs": [
      {
       "metadata": {},
       "output_type": "display_data",
       "png": "[encoded data removed]",
       "text": [
        "<matplotlib.figure.Figure at 0x10c196d50>"
       ]
      }
     ],
     "prompt_number": 27
    },
    {
     "cell_type": "markdown",
     "metadata": {},
     "source": [
      "A quick visual inspection shows we get the best result when the regularization weight is `0.1`. So we should use that for our recommendation engine."
     ]
    },
    {
     "cell_type": "code",
     "collapsed": false,
     "input": [
      "d_models = []\n",
      "d_values = [10, 50, 100, 150, 200]\n",
      "for d in d_values:\n",
      "    d_models.append(graphlab.recommender.matrix_factorization.create(data, \"UserID\", \"MovieTitle\", \"Ratings\", D=d, reg=0.1))"
     ],
     "language": "python",
     "metadata": {},
     "outputs": [],
     "prompt_number": 28
    },
    {
     "cell_type": "code",
     "collapsed": false,
     "input": [
      "rmse_d_train = []\n",
      "for x in range(len(d_values)):\n",
      "    rmse_d_train.append(d_models[x].training_stats()['training_rmse'])"
     ],
     "language": "python",
     "metadata": {},
     "outputs": [],
     "prompt_number": 29
    },
    {
     "cell_type": "code",
     "collapsed": false,
     "input": [
      "(fig, ax) = plt.subplots(figsize=(10, 8))\n",
      "[p2] = ax.plot(d_values, rmse_d_train)\n",
      "ax.set_ylim([0, 1])\n",
      "ax.set_xlabel('Latent Factors', fontsize=20)\n",
      "ax.set_ylabel('RMSE', fontsize=20)\n",
      "ax.legend([p2], [\"Training\"])\n",
      "fig.show()"
     ],
     "language": "python",
     "metadata": {},
     "outputs": [
      {
       "metadata": {},
       "output_type": "display_data",
       "png": "[encoded data removed]",
       "text": [
        "<matplotlib.figure.Figure at 0x10c193ad0>"
       ]
      }
     ],
     "prompt_number": 30
    },
    {
     "cell_type": "markdown",
     "metadata": {},
     "source": [
      "Increasing the number of latent factors lowers the RSME but is also computationally expensive. We also see that follows a negative exponential curve and benefits diminish around 150 factors, so it isn't worth the processing time to go much beyond 150."
     ]
    }
   ],
   "metadata": {}
  }
 ]
}